{
 "cells": [
  {
   "cell_type": "code",
   "execution_count": 1,
   "metadata": {},
   "outputs": [
    {
     "name": "stderr",
     "output_type": "stream",
     "text": [
      "/Users/kevin/.pyenv/versions/3.10.2/envs/python_bytes_generator/lib/python3.10/site-packages/tqdm/auto.py:22: TqdmWarning: IProgress not found. Please update jupyter and ipywidgets. See https://ipywidgets.readthedocs.io/en/stable/user_install.html\n",
      "  from .autonotebook import tqdm as notebook_tqdm\n"
     ]
    }
   ],
   "source": [
    "from transformers import AutoTokenizer, AutoModelForCausalLM, pipeline\n"
   ]
  },
  {
   "cell_type": "code",
   "execution_count": 2,
   "metadata": {},
   "outputs": [],
   "source": [
    "tokenizer = AutoTokenizer.from_pretrained(\"arvkevi/nba_pbp_distilgpt2\")\n",
    "\n",
    "model = AutoModelForCausalLM.from_pretrained(\"arvkevi/nba_pbp_distilgpt2\", pad_token_id=tokenizer.eos_token_id)\n"
   ]
  },
  {
   "cell_type": "code",
   "execution_count": 42,
   "metadata": {},
   "outputs": [
    {
     "name": "stdout",
     "output_type": "stream",
     "text": [
      "1 11:45 0-0 K. Looney misses 2-pt layup from 4 ft (block by R. Williams)\n",
      "1 7:00 2-0 R. Langford misses 2-pt layup from 3 ft\n",
      "1 7:00 2-0 Offensive rebound by Team\n",
      "1 7:00 2-0 R. Langford misses 3-pt jump shot from 24 ft\n",
      "1 3:43 5-2 Offensive rebound by D. Schröder\n",
      "1 3:41 5-2 M. Smart misses 2-pt layup from 6 ft\n",
      "1 3:40 5-2 Offensive rebound by D. Schröder\n",
      "1 1:02 7-4 A. Horford misses 2-pt jump shot from 16 ft\n",
      "1 1:01 7-4 Defensive rebound by D. Schröder\n",
      "1 1:00 7-4 Turnover by M. Smart (lost ball; steal by J. Richardson)\n",
      "2 9:14 10-9 Turnover by M. Smart (out of bounds lost ball)\n",
      "2 9:07 10-9 G. Williams misses 3-pt jump shot from 24 ft\n",
      "2 9:06 10-9 Defensive rebound by J. Richardson\n",
      "2 6:19 17-10 J. Brown misses free throw 1 of 2\n",
      "2 6:14 17-10 Defensive rebound by A. Horford\n",
      "2 6:14 17-10 D. Schröder misses 2-pt layup from 4 ft (block by A. Horford)\n",
      "2 3:22 19-11 J. Brown misses 2-pt jump shot from 6 ft\n",
      "2 3:20 19-11 Defensive rebound by D. Schröder\n",
      "2 3:21 19-11 Personal foul by M. Smart (drawn by C. Capela)\n",
      "2 0:38 19-11 Turnover by D. Schröder (lost ball; steal by P. Pritchard)\n",
      "2 0:30 19-11 Golden State full timeout\n",
      "2 0:38 19-11 D. Schröder misses 2-pt layup from 2 ft\n",
      "3 9:11 23-11 D. Schröder misses 2-pt layup from 2 ft\n",
      "3 9:12 23-11 Defensive rebound by P. Pritchard\n",
      "3 9:04 23-11 J. Tatum misses 3-pt jump shot from 26 ft\n",
      "3 5:42 25-14 Offensive rebound by D. Schröder\n",
      "3 5:41 25-14 J. Richardson misses 3-pt jump shot from 26 ft\n",
      "3 5:40 25-14 Defensive rebound by J. Tatum\n",
      "3 3:59 29-14 Defensive rebound by R. Williams\n",
      "3 3:59 29-14 J. Tatum misses 2-pt layup from 6 ft\n",
      "3 3:59 29-14 Defensive rebound by M. Smart\n",
      "3 0:57 32-19 Defensive rebound by A. Horford\n",
      "3 0:50 32-19 Personal take foul by D. Schröder (drawn by A. Horford)\n",
      "3 0:50 32-19 Turnover by A. Horford (offensive foul)\n",
      "4 9:07 32-19 D. Schröder misses 2-pt layup at rim\n",
      "4 9:07 32-19 Offensive rebound by R. Williams\n",
      "4 9:06 32-19 J. Tatum misses 2-pt layup at rim\n",
      "4 6:22 34-22 J. Brown misses 2-pt jump shot from 6 ft\n",
      "4 6:21 34-22 Defensive rebound by R. Williams\n",
      "4 6:21 34-22 Shooting foul by D. Schröder (drawn by A. Horford)\n",
      "4 4:06 34-22 Personal take foul by J. Brown (drawn by A. Horford)\n",
      "4 4:06 34-22 J. Brown misses 2-pt jump shot from 13 ft\n",
      "4 4:05 34-22 Defensive rebound by J. Brown\n",
      "4 1:06 34-22 Offensive rebound by M. Smart\n",
      "4 1:07 34-22 J. Brown misses 2-pt jump shot from 13 ft\n",
      "4 1:06 34-22 Defensive rebound by J. Tatum\n"
     ]
    }
   ],
   "source": [
    "full_pbp = \"\"\n",
    "\n",
    "prompt = \"1 11:45 0-0 K. Looney misses 2-pt layup from 4 ft (block by R. Williams)\"\n",
    "# for _ in range(10):\n",
    "while \"End of Game\" not in full_pbp:\n",
    "    input_ids = tokenizer(prompt, return_tensors=\"pt\").input_ids\n",
    "    print(prompt)\n",
    "    outputs = model.generate(\n",
    "        input_ids,\n",
    "        do_sample=True,\n",
    "        max_length=1024,\n",
    "        temperature=0.95,\n",
    "        top_k=0,\n",
    "        top_p=0.90,\n",
    "        repitition_penalty=1.0,\n",
    "    )\n",
    "\n",
    "    generated_text = tokenizer.batch_decode(outputs, skip_special_tokens=False)[0]\n",
    "    # the last few tokens might be an imcomplete play\n",
    "    generated_text_remove_last_line = generated_text.splitlines()[:-1]\n",
    "    prompt = \"\\n\".join(generated_text_remove_last_line[-3:])\n",
    "    generated_text_remove_last_line = \"\\n\".join(generated_text_remove_last_line)\n",
    "\n",
    "    full_pbp+=generated_text_remove_last_line"
   ]
  },
  {
   "cell_type": "code",
   "execution_count": null,
   "metadata": {},
   "outputs": [],
   "source": [
    "with open(\"BOS_GSW_distilgpt2_pbp.txt\", \"w\") as f:\n",
    "    f.write(full_pbp)"
   ]
  },
  {
   "cell_type": "code",
   "execution_count": null,
   "metadata": {},
   "outputs": [],
   "source": []
  }
 ],
 "metadata": {
  "kernelspec": {
   "display_name": "Python 3.10.2 64-bit ('python_bytes_generator')",
   "language": "python",
   "name": "python3"
  },
  "language_info": {
   "codemirror_mode": {
    "name": "ipython",
    "version": 3
   },
   "file_extension": ".py",
   "mimetype": "text/x-python",
   "name": "python",
   "nbconvert_exporter": "python",
   "pygments_lexer": "ipython3",
   "version": "3.10.2"
  },
  "orig_nbformat": 4,
  "vscode": {
   "interpreter": {
    "hash": "d5d1f627fbcc436334a7a88a32991e0bc0b4367c2ad0dd24a00b89bdaddd952a"
   }
  }
 },
 "nbformat": 4,
 "nbformat_minor": 2
}
