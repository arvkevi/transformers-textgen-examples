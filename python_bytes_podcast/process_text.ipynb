{
 "cells": [
  {
   "cell_type": "code",
   "execution_count": 1,
   "metadata": {},
   "outputs": [],
   "source": [
    "from pathlib import Path\n",
    "import random"
   ]
  },
  {
   "cell_type": "code",
   "execution_count": 11,
   "metadata": {},
   "outputs": [],
   "source": [
    "# Clone the python_bytes_show_notes repo\n",
    "# https://github.com/mikeckennedy/python_bytes_show_notes\n",
    "\n",
    "# Update these filepaths!\n",
    "\n",
    "DATA_DIRECTORY = Path(\"/Users/kevin/projects/python_bytes_show_notes/transcripts/\")\n",
    "OUTPUT_DIRECTORY = Path(\"/Users/kevin/projects/transformers-textgen-examples/python_bytes_podcast/data/\")\n",
    "SEED = 42\n",
    "random.seed(SEED)"
   ]
  },
  {
   "cell_type": "code",
   "execution_count": 13,
   "metadata": {},
   "outputs": [],
   "source": [
    "p = Path(DATA_DIRECTORY).glob('**/*.txt')\n",
    "files = [x for x in p if x.is_file()]\n",
    "\n",
    "# inplace\n",
    "random.shuffle(files)\n",
    "\n",
    "# 80% train, 20% val\n",
    "train = files[:int(len(files) * 0.8)]\n",
    "val = files[int(len(files) * 0.8):]\n"
   ]
  },
  {
   "cell_type": "code",
   "execution_count": 14,
   "metadata": {},
   "outputs": [
    {
     "name": "stdout",
     "output_type": "stream",
     "text": [
      "There are 235 files in the train set and 59 files in the val set.\n"
     ]
    }
   ],
   "source": [
    "print(f\"There are {len(train)} files in the train set and {len(val)} files in the val set.\")"
   ]
  },
  {
   "cell_type": "code",
   "execution_count": 5,
   "metadata": {},
   "outputs": [],
   "source": [
    "# This cell creates a single file for training and a single file for validation by\n",
    "#  concatenating the individual show files.\n",
    "\n",
    "# After writing each file, a special token is added to the end of each file to flag that it has reached the end. \n",
    "\n",
    "with open(OUTPUT_DIRECTORY.joinpath(\"python_bytes.train.txt\"), 'w') as outfile:\n",
    "    for fname in train:\n",
    "        with open(fname) as infile:\n",
    "            outfile.write(infile.read())\n",
    "            outfile.write(\" <|endoftext|>\\n\")\n",
    "\n",
    "with open(OUTPUT_DIRECTORY.joinpath(\"python_bytes.val.txt\"), 'w') as outfile:\n",
    "    for fname in val:\n",
    "        with open(fname) as infile:\n",
    "            outfile.write(infile.read())\n",
    "            outfile.write(\" <|endoftext|>\\n\")"
   ]
  },
  {
   "cell_type": "code",
   "execution_count": null,
   "metadata": {},
   "outputs": [],
   "source": []
  }
 ],
 "metadata": {
  "kernelspec": {
   "display_name": "Python 3.10.2 64-bit ('python_bytes_generator')",
   "language": "python",
   "name": "python3"
  },
  "language_info": {
   "codemirror_mode": {
    "name": "ipython",
    "version": 3
   },
   "file_extension": ".py",
   "mimetype": "text/x-python",
   "name": "python",
   "nbconvert_exporter": "python",
   "pygments_lexer": "ipython3",
   "version": "3.10.2"
  },
  "orig_nbformat": 4,
  "vscode": {
   "interpreter": {
    "hash": "d5d1f627fbcc436334a7a88a32991e0bc0b4367c2ad0dd24a00b89bdaddd952a"
   }
  }
 },
 "nbformat": 4,
 "nbformat_minor": 2
}
